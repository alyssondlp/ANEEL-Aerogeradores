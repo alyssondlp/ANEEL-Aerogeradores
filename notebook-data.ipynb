{
 "cells": [
  {
   "cell_type": "code",
   "execution_count": 1,
   "id": "2aa01681",
   "metadata": {},
   "outputs": [],
   "source": [
    "# Célula 1: Importações e Configurações\n",
    "import os\n",
    "import logging\n",
    "import pandas as pd\n",
    "from query_data import extract_aneel_data\n",
    "from processor_data import process_geodata, save_geodata"
   ]
  },
  {
   "cell_type": "code",
   "execution_count": 2,
   "id": "b5c13ce1",
   "metadata": {},
   "outputs": [],
   "source": [
    "# Célula 2: Definição de Constantes e Configuração\n",
    "ANEEL_URL = \"https://sigel.aneel.gov.br/arcgis/rest/services/PORTAL/WFS/MapServer/0/query\"\n",
    "OUTPUT_FOLDER = \"outputs\"\n",
    "FINAL_FILENAME = \"aerogeradores_para_tableau.csv\""
   ]
  },
  {
   "cell_type": "code",
   "execution_count": 3,
   "id": "2dddb9fc",
   "metadata": {},
   "outputs": [
    {
     "name": "stderr",
     "output_type": "stream",
     "text": [
      "2025-07-15 15:34:12,176 - INFO - Iniciando extração de dados da URL: https://sigel.aneel.gov.br/arcgis/rest/services/PORTAL/WFS/MapServer/0/query (com paginação)\n",
      "2025-07-15 15:34:13,028 - INFO - Página obtida com 1000 registros. Total acumulado: 1000\n",
      "2025-07-15 15:34:13,566 - INFO - Página obtida com 1000 registros. Total acumulado: 2000\n",
      "2025-07-15 15:34:14,170 - INFO - Página obtida com 1000 registros. Total acumulado: 3000\n",
      "2025-07-15 15:34:14,725 - INFO - Página obtida com 1000 registros. Total acumulado: 4000\n",
      "2025-07-15 15:34:15,336 - INFO - Página obtida com 1000 registros. Total acumulado: 5000\n",
      "2025-07-15 15:34:15,890 - INFO - Página obtida com 1000 registros. Total acumulado: 6000\n",
      "2025-07-15 15:34:16,503 - INFO - Página obtida com 1000 registros. Total acumulado: 7000\n",
      "2025-07-15 15:34:17,193 - INFO - Página obtida com 1000 registros. Total acumulado: 8000\n",
      "2025-07-15 15:34:17,893 - INFO - Página obtida com 1000 registros. Total acumulado: 9000\n",
      "2025-07-15 15:34:18,450 - INFO - Página obtida com 1000 registros. Total acumulado: 10000\n",
      "2025-07-15 15:34:18,983 - INFO - Página obtida com 1000 registros. Total acumulado: 11000\n",
      "2025-07-15 15:34:19,523 - INFO - Página obtida com 1000 registros. Total acumulado: 12000\n",
      "2025-07-15 15:34:20,083 - INFO - Página obtida com 1000 registros. Total acumulado: 13000\n",
      "2025-07-15 15:34:20,626 - INFO - Página obtida com 1000 registros. Total acumulado: 14000\n",
      "2025-07-15 15:34:21,203 - INFO - Página obtida com 1000 registros. Total acumulado: 15000\n",
      "2025-07-15 15:34:21,789 - INFO - Página obtida com 1000 registros. Total acumulado: 16000\n",
      "2025-07-15 15:34:22,423 - INFO - Página obtida com 1000 registros. Total acumulado: 17000\n",
      "2025-07-15 15:34:22,981 - INFO - Página obtida com 1000 registros. Total acumulado: 18000\n",
      "2025-07-15 15:34:23,732 - INFO - Página obtida com 1000 registros. Total acumulado: 19000\n",
      "2025-07-15 15:34:24,268 - INFO - Página obtida com 1000 registros. Total acumulado: 20000\n",
      "2025-07-15 15:34:24,863 - INFO - Página obtida com 1000 registros. Total acumulado: 21000\n",
      "2025-07-15 15:34:25,383 - INFO - Página obtida com 1000 registros. Total acumulado: 22000\n",
      "2025-07-15 15:34:25,978 - INFO - Página obtida com 1000 registros. Total acumulado: 23000\n",
      "2025-07-15 15:34:26,474 - INFO - Página obtida com 522 registros. Total acumulado: 23522\n",
      "2025-07-15 15:34:26,474 - INFO - Última página de dados alcançada.\n",
      "2025-07-15 15:34:26,474 - INFO - Extração de dados concluída. Total de 23522 registros obtidos.\n"
     ]
    }
   ],
   "source": [
    "# Célula 3: Data Extract\n",
    "raw_aneel_data = extract_aneel_data(url=ANEEL_URL)"
   ]
  },
  {
   "cell_type": "code",
   "execution_count": 4,
   "id": "5eb149f8",
   "metadata": {},
   "outputs": [
    {
     "name": "stderr",
     "output_type": "stream",
     "text": [
      "2025-07-15 15:34:26,484 - INFO - \n",
      "--- INICIANDO ETAPA 2: PROCESSAMENTO DE DADOS ---\n",
      "2025-07-15 15:34:26,485 - INFO - Iniciando processamento dos dados GeoJSON.\n",
      "2025-07-15 15:34:26,788 - INFO - Aplicando regra de negócio para 'Barra XI'...\n",
      "2025-07-15 15:34:26,795 - INFO - Foram atualizados 12 registros de UF para 'MG' com base na regra.\n",
      "2025-07-15 15:34:26,795 - INFO - Removendo quebras de linha de todas as colunas de texto...\n",
      "2025-07-15 15:34:26,905 - INFO - Limpando aspas simples e duplas da coluna 'PROPRIETARIO'...\n",
      "2025-07-15 15:34:26,923 - INFO - Iniciando limpeza agressiva de valores nulos e vazios...\n",
      "2025-07-15 15:34:27,144 - INFO - Padronizando valores de ponto flutuante...\n",
      "2025-07-15 15:34:27,149 - INFO - Valores na coluna 'DIAM_ROTOR, POT_MW, POT_MW, ALT_TOTAL' foram arredondados.\n",
      "2025-07-15 15:34:27,149 - INFO - Aplicando normalização personalizada em 'POT_MW'...\n",
      "2025-07-15 15:34:27,156 - INFO - Padronizando a coluna 'OPERACAO': substituindo '1' por 'Sim'...\n",
      "2025-07-15 15:34:27,169 - INFO - Aplicando regra de negócio para 'DATUM_EMP' em NOME_EOL específicos...\n",
      "2025-07-15 15:34:27,172 - INFO - Foram atualizados 14 registros para DATUM_EMP = 'SIRGAS2000'.\n",
      "2025-07-15 15:34:27,197 - INFO - Processamento de dados concluído.\n"
     ]
    }
   ],
   "source": [
    "# Célula 4: Processamento e Limpeza dos Dados\n",
    "logging.info(\"\\n--- INICIANDO ETAPA 2: PROCESSAMENTO DE DADOS ---\")\n",
    "if raw_aneel_data:\n",
    "    gdf_processado = process_geodata(raw_data=raw_aneel_data)\n",
    "else:\n",
    "    logging.error(\"Processamento não pode continuar pois a extração de dados falhou.\")\n",
    "    gdf_processado = None"
   ]
  },
  {
   "cell_type": "code",
   "execution_count": 5,
   "id": "ca5a29ce",
   "metadata": {},
   "outputs": [
    {
     "name": "stdout",
     "output_type": "stream",
     "text": [
      "\n",
      "Amostra dos dados após tratamento completo:\n"
     ]
    },
    {
     "data": {
      "text/html": [
       "<div>\n",
       "<style scoped>\n",
       "    .dataframe tbody tr th:only-of-type {\n",
       "        vertical-align: middle;\n",
       "    }\n",
       "\n",
       "    .dataframe tbody tr th {\n",
       "        vertical-align: top;\n",
       "    }\n",
       "\n",
       "    .dataframe thead th {\n",
       "        text-align: right;\n",
       "    }\n",
       "</style>\n",
       "<table border=\"1\" class=\"dataframe\">\n",
       "  <thead>\n",
       "    <tr style=\"text-align: right;\">\n",
       "      <th></th>\n",
       "      <th>NOME_EOL</th>\n",
       "      <th>POT_MW</th>\n",
       "      <th>UF</th>\n",
       "      <th>latitude</th>\n",
       "      <th>longitude</th>\n",
       "    </tr>\n",
       "  </thead>\n",
       "  <tbody>\n",
       "    <tr>\n",
       "      <th>0</th>\n",
       "      <td>Caititu</td>\n",
       "      <td>1.85</td>\n",
       "      <td>BA</td>\n",
       "      <td>-14.470968</td>\n",
       "      <td>-42.642495</td>\n",
       "    </tr>\n",
       "    <tr>\n",
       "      <th>1</th>\n",
       "      <td>Dreen Boa Vista</td>\n",
       "      <td>2.00</td>\n",
       "      <td>RN</td>\n",
       "      <td>-5.115754</td>\n",
       "      <td>-35.924469</td>\n",
       "    </tr>\n",
       "    <tr>\n",
       "      <th>2</th>\n",
       "      <td>Renascença V</td>\n",
       "      <td>2.00</td>\n",
       "      <td>RN</td>\n",
       "      <td>-5.267424</td>\n",
       "      <td>-35.844373</td>\n",
       "    </tr>\n",
       "    <tr>\n",
       "      <th>3</th>\n",
       "      <td>SM</td>\n",
       "      <td>2.70</td>\n",
       "      <td>RN</td>\n",
       "      <td>-5.442082</td>\n",
       "      <td>-35.923294</td>\n",
       "    </tr>\n",
       "    <tr>\n",
       "      <th>4</th>\n",
       "      <td>Colônia</td>\n",
       "      <td>2.10</td>\n",
       "      <td>CE</td>\n",
       "      <td>-3.540330</td>\n",
       "      <td>-38.879826</td>\n",
       "    </tr>\n",
       "  </tbody>\n",
       "</table>\n",
       "</div>"
      ],
      "text/plain": [
       "          NOME_EOL  POT_MW  UF   latitude  longitude\n",
       "0          Caititu    1.85  BA -14.470968 -42.642495\n",
       "1  Dreen Boa Vista    2.00  RN  -5.115754 -35.924469\n",
       "2     Renascença V    2.00  RN  -5.267424 -35.844373\n",
       "3               SM    2.70  RN  -5.442082 -35.923294\n",
       "4          Colônia    2.10  CE  -3.540330 -38.879826"
      ]
     },
     "metadata": {},
     "output_type": "display_data"
    },
    {
     "name": "stdout",
     "output_type": "stream",
     "text": [
      "\n",
      "Descrição estatística da 'POT_MW' após normalização precisa:\n"
     ]
    },
    {
     "data": {
      "text/plain": [
       "count    23307.000000\n",
       "mean         3.985530\n",
       "std          1.730211\n",
       "min          0.500000\n",
       "25%          2.200000\n",
       "50%          4.200000\n",
       "75%          5.500000\n",
       "max         12.000000\n",
       "Name: POT_MW, dtype: float64"
      ]
     },
     "metadata": {},
     "output_type": "display_data"
    }
   ],
   "source": [
    "# Célula 5: Verificação dos Dados Processados\n",
    "if gdf_processado is not None:\n",
    "    print(\"\\nAmostra dos dados após tratamento completo:\")\n",
    "    # Exibindo as colunas mais importantes para verificação\n",
    "    display(gdf_processado[['NOME_EOL', 'POT_MW', 'UF', 'latitude', 'longitude']].head())\n",
    "    \n",
    "    print(\"\\nDescrição estatística da 'POT_MW' após normalização precisa:\")\n",
    "    display(gdf_processado['POT_MW'].describe())\n",
    "else:\n",
    "    print(\"\\nNão há dados para exibir.\")"
   ]
  },
  {
   "cell_type": "code",
   "execution_count": 6,
   "id": "cac58c7f",
   "metadata": {},
   "outputs": [
    {
     "name": "stderr",
     "output_type": "stream",
     "text": [
      "2025-07-15 15:34:27,246 - INFO - \n",
      "--- INICIANDO ETAPA 3: ARMAZENAMENTO DE DADOS ---\n",
      "2025-07-15 15:34:27,246 - INFO - Iniciando salvamento do arquivo em 'outputs/aerogeradores_para_tableau.csv'.\n",
      "2025-07-15 15:34:27,513 - INFO - Arquivo salvo com sucesso em: outputs\\aerogeradores_para_tableau.csv\n"
     ]
    },
    {
     "name": "stdout",
     "output_type": "stream",
     "text": [
      "\n",
      "PROJETO CONCLUÍDO! O arquivo final está pronto para análise em: 'outputs\\aerogeradores_para_tableau.csv'\n"
     ]
    }
   ],
   "source": [
    "# Célula 6: Armazenamento do Arquivo Final\n",
    "logging.info(\"\\n--- INICIANDO ETAPA 3: ARMAZENAMENTO DE DADOS ---\")\n",
    "# Salva o GeoDataFrame final (sem a coluna de geometria) para uso no Tableau\n",
    "saved_file_path = save_geodata(\n",
    "    gdf=gdf_processado,\n",
    "    folder=OUTPUT_FOLDER,\n",
    "    filename=FINAL_FILENAME\n",
    ")\n",
    "\n",
    "if saved_file_path:\n",
    "    print(f\"\\nPROJETO CONCLUÍDO! O arquivo final está pronto para análise em: '{saved_file_path}'\")"
   ]
  }
 ],
 "metadata": {
  "kernelspec": {
   "display_name": "base",
   "language": "python",
   "name": "python3"
  },
  "language_info": {
   "codemirror_mode": {
    "name": "ipython",
    "version": 3
   },
   "file_extension": ".py",
   "mimetype": "text/x-python",
   "name": "python",
   "nbconvert_exporter": "python",
   "pygments_lexer": "ipython3",
   "version": "3.11.7"
  }
 },
 "nbformat": 4,
 "nbformat_minor": 5
}
